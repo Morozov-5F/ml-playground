{
 "cells": [
  {
   "cell_type": "markdown",
   "metadata": {},
   "source": [
    "### 1. Error measurement"
   ]
  },
  {
   "cell_type": "code",
   "execution_count": 16,
   "metadata": {},
   "outputs": [
    {
     "name": "stdout",
     "output_type": "stream",
     "text": [
      "0.30250000000000005\n"
     ]
    }
   ],
   "source": [
    "knob_weight = 0.5\n",
    "inp = 0.5\n",
    "goal_pred = 0.8\n",
    "\n",
    "pred = inp * knob_weight\n",
    "\n",
    "error = (pred - goal_pred) ** 2\n",
    "\n",
    "print(error)"
   ]
  },
  {
   "cell_type": "markdown",
   "metadata": {},
   "source": [
    "### 2. Hot/cold learning: fundamentals"
   ]
  },
  {
   "cell_type": "markdown",
   "metadata": {},
   "source": [
    "First, create an empty neural network:"
   ]
  },
  {
   "cell_type": "code",
   "execution_count": 17,
   "metadata": {},
   "outputs": [],
   "source": [
    "weight = 0.1\n",
    "lr = 0.01\n",
    "\n",
    "def neural_network(inp, weight):\n",
    "    return inp * weight"
   ]
  },
  {
   "cell_type": "markdown",
   "metadata": {},
   "source": [
    "Then get a prediction using this network and calculate an error:"
   ]
  },
  {
   "cell_type": "code",
   "execution_count": 18,
   "metadata": {},
   "outputs": [
    {
     "name": "stdout",
     "output_type": "stream",
     "text": [
      "0.022499999999999975\n"
     ]
    }
   ],
   "source": [
    "number_of_toes = [8.5]\n",
    "win_or_lose_binary = [1]\n",
    "\n",
    "inp = number_of_toes[0]\n",
    "true = win_or_lose_binary[0]\n",
    "\n",
    "pred = neural_network(inp, weight)\n",
    "error = (pred - true) ** 2\n",
    "print(error)"
   ]
  },
  {
   "cell_type": "markdown",
   "metadata": {},
   "source": [
    "After that, try slightly increasing the weight and calculate an error:"
   ]
  },
  {
   "cell_type": "code",
   "execution_count": 19,
   "metadata": {},
   "outputs": [
    {
     "name": "stdout",
     "output_type": "stream",
     "text": [
      "0.004224999999999993\n"
     ]
    }
   ],
   "source": [
    "p_up = neural_network(inp, weight + lr)\n",
    "e_up = (p_up - true) ** 2\n",
    "print(e_up)"
   ]
  },
  {
   "cell_type": "markdown",
   "metadata": {},
   "source": [
    "Then do the same thing but decrease the wight first:"
   ]
  },
  {
   "cell_type": "code",
   "execution_count": 20,
   "metadata": {},
   "outputs": [
    {
     "name": "stdout",
     "output_type": "stream",
     "text": [
      "0.05522499999999994\n"
     ]
    }
   ],
   "source": [
    "p_dn = neural_network(inp, weight - lr)\n",
    "e_dn = (p_dn - true) ** 2\n",
    "print(e_dn)"
   ]
  },
  {
   "cell_type": "markdown",
   "metadata": {},
   "source": [
    "Finally, some actual learning - choose the new weight by analyzing the error. We select the direction where error is smaller:"
   ]
  },
  {
   "cell_type": "code",
   "execution_count": 21,
   "metadata": {},
   "outputs": [
    {
     "name": "stdout",
     "output_type": "stream",
     "text": [
      "0.935\n",
      "0.004224999999999993\n"
     ]
    }
   ],
   "source": [
    "if error > e_dn or error > e_up:\n",
    "    if e_dn < e_up:\n",
    "        weight -= lr\n",
    "    else:\n",
    "        weight += lr\n",
    "        \n",
    "new_prediction = neural_network(inp, weight)\n",
    "print(new_prediction)\n",
    "error = (new_prediction - true) ** 2\n",
    "print(error)"
   ]
  },
  {
   "cell_type": "markdown",
   "metadata": {},
   "source": [
    "### 3. Hot/Cold learning: actual code"
   ]
  },
  {
   "cell_type": "code",
   "execution_count": 22,
   "metadata": {},
   "outputs": [
    {
     "name": "stdout",
     "output_type": "stream",
     "text": [
      "Iteration: 0 Error: 0.30250000000000005 Prediction: 0.25\n",
      "Iteration: 1 Error: 0.3019502500000001 Prediction: 0.2505\n",
      "Iteration: 2 Error: 0.30140100000000003 Prediction: 0.251\n",
      "Iteration: 3 Error: 0.30085225 Prediction: 0.2515\n",
      "Iteration: 4 Error: 0.30030400000000007 Prediction: 0.252\n",
      "Iteration: 1096 Error: 4.000000000130569e-06 Prediction: 0.7979999999999674\n",
      "Iteration: 1097 Error: 2.2500000000980924e-06 Prediction: 0.7984999999999673\n",
      "Iteration: 1098 Error: 1.000000000065505e-06 Prediction: 0.7989999999999673\n",
      "Iteration: 1099 Error: 2.5000000003280753e-07 Prediction: 0.7994999999999672\n",
      "Iteration: 1100 Error: 1.0799505792475652e-27 Prediction: 0.7999999999999672\n"
     ]
    }
   ],
   "source": [
    "weight = 0.5\n",
    "inp = 0.5\n",
    "goal_prediction = 0.8\n",
    "\n",
    "step_amount = 0.001\n",
    "\n",
    "for iteration in range(1101):\n",
    "    prediction = inp * weight\n",
    "    error = (prediction - goal_prediction) ** 2\n",
    "\n",
    "    if iteration < 5 or iteration > 1095:\n",
    "        print(\"Iteration: \" + str(iteration) + \" Error: \" + str(error) + \" Prediction: \" + str(prediction))\n",
    "    \n",
    "    up_prediction = inp * (weight + step_amount)\n",
    "    up_error = (goal_prediction - up_prediction) ** 2\n",
    "    \n",
    "    dn_prediction = inp * (weight - step_amount)\n",
    "    dn_error = (goal_prediction - dn_prediction) ** 2\n",
    "    \n",
    "    if dn_error < up_error:\n",
    "        weight -= step_amount \n",
    "    if dn_error > up_error:\n",
    "        weight += step_amount"
   ]
  },
  {
   "cell_type": "markdown",
   "metadata": {},
   "source": [
    "Pros: \n",
    "- Very simple\n",
    "\n",
    "Cons:\n",
    "- Ineffective\n",
    "- Sometimes it's impossible to reach the best accuracy -- goal value should be equal to `n * step_amount` where `n` is  number of iterations"
   ]
  },
  {
   "cell_type": "markdown",
   "source": [
    "### 4. Amount and Direction calculation from error"
   ],
   "metadata": {
    "collapsed": false
   }
  },
  {
   "cell_type": "code",
   "execution_count": 24,
   "outputs": [
    {
     "name": "stdout",
     "output_type": "stream",
     "text": [
      "Error: 0.30250000000000005 Prediction: 0.25\n",
      "Error: 0.17015625000000004 Prediction: 0.3875\n",
      "Error: 0.095712890625 Prediction: 0.49062500000000003\n",
      "Error: 0.05383850097656251 Prediction: 0.56796875\n",
      "Error: 0.03028415679931642 Prediction: 0.6259765625\n",
      "Error: 0.0170348381996155 Prediction: 0.669482421875\n",
      "Error: 0.00958209648728372 Prediction: 0.70211181640625\n",
      "Error: 0.005389929274097089 Prediction: 0.7265838623046875\n",
      "Error: 0.0030318352166796153 Prediction: 0.7449378967285156\n",
      "Error: 0.0017054073093822882 Prediction: 0.7587034225463867\n",
      "Error: 0.0009592916115275371 Prediction: 0.76902756690979\n",
      "Error: 0.0005396015314842384 Prediction: 0.7767706751823426\n",
      "Error: 0.000303525861459885 Prediction: 0.7825780063867569\n",
      "Error: 0.00017073329707118678 Prediction: 0.7869335047900676\n",
      "Error: 9.603747960254256e-05 Prediction: 0.7902001285925507\n",
      "Error: 5.402108227642978e-05 Prediction: 0.7926500964444131\n",
      "Error: 3.038685878049206e-05 Prediction: 0.7944875723333098\n",
      "Error: 1.7092608064027242e-05 Prediction: 0.7958656792499823\n",
      "Error: 9.614592036015323e-06 Prediction: 0.7968992594374867\n",
      "Error: 5.408208020258491e-06 Prediction: 0.7976744445781151\n"
     ]
    }
   ],
   "source": [
    "weight = 0.5\n",
    "goal_pred = 0.8\n",
    "inp = 0.5\n",
    "\n",
    "for iteration in range(20):\n",
    "    pred = inp * weight\n",
    "    error = (pred - goal_pred) ** 2\n",
    "    direction_and_amount = (pred - goal_pred) * inp\n",
    "    weight = weight - direction_and_amount\n",
    "\n",
    "    print(f'Error: {error} Prediction: {pred}')"
   ],
   "metadata": {
    "collapsed": false,
    "pycharm": {
     "name": "#%%\n"
    }
   }
  },
  {
   "cell_type": "markdown",
   "source": [
    "The piece of code above implements so-called 'gradient descent' method of learning."
   ],
   "metadata": {
    "collapsed": false
   }
  },
  {
   "cell_type": "markdown",
   "source": [
    "### 5. One iteration of gradient descent"
   ],
   "metadata": {
    "collapsed": false
   }
  },
  {
   "cell_type": "code",
   "execution_count": 25,
   "outputs": [],
   "source": [
    "# 1. Init empty neural network\n",
    "weight = 0.1\n",
    "alpha = 0.01\n",
    "\n",
    "# 2. Predict: make a prediction and evaluate an error\n",
    "number_of_toes = [8.5]\n",
    "win_or_lose_binary = [1]\n",
    "\n",
    "inp = number_of_toes[0]\n",
    "goal_pred = win_or_lose_binary[0]\n",
    "\n",
    "pred = neural_network(inp, weight)\n",
    "error = (pred - goal_pred) ** 2\n",
    "\n",
    "# 3. Compare: calculate the delta between prediction and goal\n",
    "delta = pred - goal_pred\n",
    "\n",
    "# 4. Learn: calculate the weight delta\n",
    "weight_delta = inp * delta\n",
    "\n",
    "# 5. Learn: update the weight\n",
    "weight -= weight_delta * alpha"
   ],
   "metadata": {
    "collapsed": false,
    "pycharm": {
     "name": "#%%\n"
    }
   }
  },
  {
   "cell_type": "markdown",
   "source": [
    "### 5. More verbose gradient descent"
   ],
   "metadata": {
    "collapsed": false,
    "pycharm": {
     "name": "#%% md\n"
    }
   }
  },
  {
   "cell_type": "code",
   "execution_count": 32,
   "outputs": [
    {
     "name": "stdout",
     "output_type": "stream",
     "text": [
      "-----\n",
      "Weight: 0.0\n",
      "Error: 0.6400000000000001, Prediction: 0.0\n",
      "Delta: -0.8, Weight Delta: -0.8800000000000001\n",
      "-----\n",
      "Weight: 0.8800000000000001\n",
      "Error: 0.02822400000000005, Prediction: 0.9680000000000002\n",
      "Delta: 0.16800000000000015, Weight Delta: 0.1848000000000002\n",
      "-----\n",
      "Weight: 0.6951999999999999\n",
      "Error: 0.0012446784000000064, Prediction: 0.76472\n",
      "Delta: -0.03528000000000009, Weight Delta: -0.0388080000000001\n",
      "-----\n",
      "Weight: 0.734008\n",
      "Error: 5.4890317439999896e-05, Prediction: 0.8074088\n",
      "Delta: 0.007408799999999993, Weight Delta: 0.008149679999999992\n"
     ]
    }
   ],
   "source": [
    "weight, goal_pred, inp = (0.0, 0.8, 1.1)\n",
    "for iteration in range(4):\n",
    "    print('-----')\n",
    "    print(f'Weight: {weight}')\n",
    "    pred = inp * weight\n",
    "    error = (pred - goal_pred) ** 2\n",
    "    delta = (pred - goal_pred)\n",
    "    weight_delta = delta * inp\n",
    "    weight = weight - weight_delta\n",
    "    print(f'Error: {error}, Prediction: {pred}')\n",
    "    print(f'Delta: {delta}, Weight Delta: {weight_delta}')"
   ],
   "metadata": {
    "collapsed": false,
    "pycharm": {
     "name": "#%%\n"
    }
   }
  },
  {
   "cell_type": "markdown",
   "source": [
    "### 6. Attempt to recreate a neural network from scratch"
   ],
   "metadata": {
    "collapsed": false,
    "pycharm": {
     "name": "#%% md\n"
    }
   }
  },
  {
   "cell_type": "code",
   "execution_count": 40,
   "outputs": [
    {
     "name": "stdout",
     "output_type": "stream",
     "text": [
      "Error: 0.09 Prediction: 0.2, Goal: 0.5\n",
      "Error: 0.0036 Prediction: 0.44, Goal: 0.5\n",
      "Error: 0.00014400000000000025 Prediction: 0.488, Goal: 0.5\n",
      "Error: 5.7600000000000634e-06 Prediction: 0.4976, Goal: 0.5\n",
      "Error: 2.3039999999998123e-07 Prediction: 0.49952, Goal: 0.5\n",
      "Error: 9.215999999997118e-09 Prediction: 0.499904, Goal: 0.5\n",
      "Error: 3.686399999998847e-10 Prediction: 0.4999808, Goal: 0.5\n",
      "Error: 1.4745599999824858e-11 Prediction: 0.49999616, Goal: 0.5\n",
      "Error: 5.898239999759413e-13 Prediction: 0.499999232, Goal: 0.5\n",
      "Error: 2.359295999903765e-14 Prediction: 0.4999998464, Goal: 0.5\n"
     ]
    }
   ],
   "source": [
    "def neural_network(inp: float, weight: float) -> float:\n",
    "    return inp * weight\n",
    "\n",
    "weight = 0.1\n",
    "goal_pred = 0.5\n",
    "alpha = 0.1\n",
    "inp = 2\n",
    "\n",
    "for iteration in range(10):\n",
    "    pred = neural_network(inp, weight)\n",
    "    delta = pred - goal_pred\n",
    "    error = (pred - goal_pred) ** 2\n",
    "    derror = 2 * inp * (pred - goal_pred)\n",
    "\n",
    "    weight = weight - alpha * derror\n",
    "    print(f'Error: {error} Prediction: {pred}, Goal: {goal_pred}')"
   ],
   "metadata": {
    "collapsed": false,
    "pycharm": {
     "name": "#%%\n"
    }
   }
  },
  {
   "cell_type": "code",
   "execution_count": null,
   "outputs": [],
   "source": [],
   "metadata": {
    "collapsed": false,
    "pycharm": {
     "name": "#%%\n"
    }
   }
  }
 ],
 "metadata": {
  "kernelspec": {
   "display_name": "Python 3",
   "language": "python",
   "name": "python3"
  },
  "language_info": {
   "codemirror_mode": {
    "name": "ipython",
    "version": 3
   },
   "file_extension": ".py",
   "mimetype": "text/x-python",
   "name": "python",
   "nbconvert_exporter": "python",
   "pygments_lexer": "ipython3",
   "version": "3.7.3"
  }
 },
 "nbformat": 4,
 "nbformat_minor": 4
}