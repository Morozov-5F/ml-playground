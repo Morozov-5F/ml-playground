{
 "cells": [
  {
   "cell_type": "markdown",
   "metadata": {},
   "source": [
    "### 1. Error measurement"
   ]
  },
  {
   "cell_type": "code",
   "execution_count": 16,
   "metadata": {},
   "outputs": [
    {
     "name": "stdout",
     "output_type": "stream",
     "text": [
      "0.30250000000000005\n"
     ]
    }
   ],
   "source": [
    "knob_weight = 0.5\n",
    "inp = 0.5\n",
    "goal_pred = 0.8\n",
    "\n",
    "pred = inp * knob_weight\n",
    "\n",
    "error = (pred - goal_pred) ** 2\n",
    "\n",
    "print(error)"
   ]
  },
  {
   "cell_type": "markdown",
   "metadata": {},
   "source": [
    "### 2. Hot/cold learning: fundamentals"
   ]
  },
  {
   "cell_type": "markdown",
   "metadata": {},
   "source": [
    "First, create an empty neural network:"
   ]
  },
  {
   "cell_type": "code",
   "execution_count": 17,
   "metadata": {},
   "outputs": [],
   "source": [
    "weight = 0.1\n",
    "lr = 0.01\n",
    "\n",
    "def neural_network(inp, weight):\n",
    "    return inp * weight"
   ]
  },
  {
   "cell_type": "markdown",
   "metadata": {},
   "source": [
    "Then get a prediction using this network and calculate an error:"
   ]
  },
  {
   "cell_type": "code",
   "execution_count": 18,
   "metadata": {},
   "outputs": [
    {
     "name": "stdout",
     "output_type": "stream",
     "text": [
      "0.022499999999999975\n"
     ]
    }
   ],
   "source": [
    "number_of_toes = [8.5]\n",
    "win_or_lose_binary = [1]\n",
    "\n",
    "inp = number_of_toes[0]\n",
    "true = win_or_lose_binary[0]\n",
    "\n",
    "pred = neural_network(inp, weight)\n",
    "error = (pred - true) ** 2\n",
    "print(error)"
   ]
  },
  {
   "cell_type": "markdown",
   "metadata": {},
   "source": [
    "After that, try slightly increasing the weight and calculate an error:"
   ]
  },
  {
   "cell_type": "code",
   "execution_count": 19,
   "metadata": {},
   "outputs": [
    {
     "name": "stdout",
     "output_type": "stream",
     "text": [
      "0.004224999999999993\n"
     ]
    }
   ],
   "source": [
    "p_up = neural_network(inp, weight + lr)\n",
    "e_up = (p_up - true) ** 2\n",
    "print(e_up)"
   ]
  },
  {
   "cell_type": "markdown",
   "metadata": {},
   "source": [
    "Then do the same thing but decrease the wight first:"
   ]
  },
  {
   "cell_type": "code",
   "execution_count": 20,
   "metadata": {},
   "outputs": [
    {
     "name": "stdout",
     "output_type": "stream",
     "text": [
      "0.05522499999999994\n"
     ]
    }
   ],
   "source": [
    "p_dn = neural_network(inp, weight - lr)\n",
    "e_dn = (p_dn - true) ** 2\n",
    "print(e_dn)"
   ]
  },
  {
   "cell_type": "markdown",
   "metadata": {},
   "source": [
    "Finally, some actual learning - choose the new weight by analyzing the error. We select the direction where error is smaller:"
   ]
  },
  {
   "cell_type": "code",
   "execution_count": 21,
   "metadata": {},
   "outputs": [
    {
     "name": "stdout",
     "output_type": "stream",
     "text": [
      "0.935\n",
      "0.004224999999999993\n"
     ]
    }
   ],
   "source": [
    "if error > e_dn or error > e_up:\n",
    "    if e_dn < e_up:\n",
    "        weight -= lr\n",
    "    else:\n",
    "        weight += lr\n",
    "        \n",
    "new_prediction = neural_network(inp, weight)\n",
    "print(new_prediction)\n",
    "error = (new_prediction - true) ** 2\n",
    "print(error)"
   ]
  },
  {
   "cell_type": "markdown",
   "metadata": {},
   "source": [
    "### 3. Hot/Cold learning: actual code"
   ]
  },
  {
   "cell_type": "code",
   "execution_count": 22,
   "metadata": {},
   "outputs": [
    {
     "name": "stdout",
     "output_type": "stream",
     "text": [
      "Iteration: 0 Error: 0.30250000000000005 Prediction: 0.25\n",
      "Iteration: 1 Error: 0.3019502500000001 Prediction: 0.2505\n",
      "Iteration: 2 Error: 0.30140100000000003 Prediction: 0.251\n",
      "Iteration: 3 Error: 0.30085225 Prediction: 0.2515\n",
      "Iteration: 4 Error: 0.30030400000000007 Prediction: 0.252\n",
      "Iteration: 1096 Error: 4.000000000130569e-06 Prediction: 0.7979999999999674\n",
      "Iteration: 1097 Error: 2.2500000000980924e-06 Prediction: 0.7984999999999673\n",
      "Iteration: 1098 Error: 1.000000000065505e-06 Prediction: 0.7989999999999673\n",
      "Iteration: 1099 Error: 2.5000000003280753e-07 Prediction: 0.7994999999999672\n",
      "Iteration: 1100 Error: 1.0799505792475652e-27 Prediction: 0.7999999999999672\n"
     ]
    }
   ],
   "source": [
    "weight = 0.5\n",
    "inp = 0.5\n",
    "goal_prediction = 0.8\n",
    "\n",
    "step_amount = 0.001\n",
    "\n",
    "for iteration in range(1101):\n",
    "    prediction = inp * weight\n",
    "    error = (prediction - goal_prediction) ** 2\n",
    "\n",
    "    if iteration < 5 or iteration > 1095:\n",
    "        print(\"Iteration: \" + str(iteration) + \" Error: \" + str(error) + \" Prediction: \" + str(prediction))\n",
    "    \n",
    "    up_prediction = inp * (weight + step_amount)\n",
    "    up_error = (goal_prediction - up_prediction) ** 2\n",
    "    \n",
    "    dn_prediction = inp * (weight - step_amount)\n",
    "    dn_error = (goal_prediction - dn_prediction) ** 2\n",
    "    \n",
    "    if dn_error < up_error:\n",
    "        weight -= step_amount \n",
    "    if dn_error > up_error:\n",
    "        weight += step_amount"
   ]
  },
  {
   "cell_type": "markdown",
   "metadata": {},
   "source": [
    "Pros: \n",
    "- Very simple\n",
    "\n",
    "Cons:\n",
    "- Ineffective\n",
    "- Sometimes it's impossible to reach the best accuracy -- goal value should be equal to `n * step_amount` where `n` is  number of iterations"
   ]
  }
 ],
 "metadata": {
  "kernelspec": {
   "display_name": "Python 3",
   "language": "python",
   "name": "python3"
  },
  "language_info": {
   "codemirror_mode": {
    "name": "ipython",
    "version": 3
   },
   "file_extension": ".py",
   "mimetype": "text/x-python",
   "name": "python",
   "nbconvert_exporter": "python",
   "pygments_lexer": "ipython3",
   "version": "3.7.3"
  }
 },
 "nbformat": 4,
 "nbformat_minor": 4
}