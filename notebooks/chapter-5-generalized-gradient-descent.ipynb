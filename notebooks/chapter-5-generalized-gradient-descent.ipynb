{
 "cells": [
  {
   "cell_type": "markdown",
   "source": [
    "### 1. Gradient descent learning with multiple inputs"
   ],
   "metadata": {
    "collapsed": false,
    "pycharm": {
     "name": "#%% md\n"
    }
   }
  },
  {
   "cell_type": "code",
   "execution_count": 101,
   "outputs": [
    {
     "name": "stdout",
     "output_type": "stream",
     "text": [
      "Iteration: 0\n",
      "Pred: 0.8600000000000001\n",
      "Error: 0.01959999999999997\n",
      "Delta: -0.1399999999999999\n",
      "Weights: [ 0.1119   0.20091 -0.09832]\n",
      "Weight Deltas: [-0.0119  -0.00091 -0.00168]\n",
      "Iteration: 1\n",
      "Pred: 0.9637574999999999\n",
      "Error: 0.0013135188062500048\n",
      "Delta: -0.036242500000000066\n",
      "Weights: [ 0.11498061  0.20114558 -0.09788509]\n",
      "Weight Deltas: [-0.00308061 -0.00023558 -0.00043491]\n",
      "Iteration: 2\n",
      "Pred: 0.9906177228125002\n",
      "Error: 8.802712522307997e-05\n",
      "Delta: -0.009382277187499843\n",
      "Weights: [ 0.11577811  0.20120656 -0.0977725 ]\n",
      "Weight Deltas: [-7.97493561e-04 -6.09848017e-05 -1.12587326e-04]\n"
     ]
    }
   ],
   "source": [
    "import numpy as np\n",
    "import numpy.typing as npt\n",
    "\n",
    "def neural_network(inp: npt.NDArray, weight: npt.NDArray) -> float:\n",
    "    return inp.dot(weight)\n",
    "\n",
    "weights = np.array([0.1, 0.2, -0.1])\n",
    "\n",
    "# Set the inputs\n",
    "toes = np.array([8.5, 9.5, 9.9, 9.0])\n",
    "wlrec = np.array([0.65, 0.8, 0.8, 0.9])\n",
    "nfans = np.array([1.2, 1.3, 0.5, 1.0])\n",
    "\n",
    "# Set the outputs\n",
    "win_or_lose_binary = np.array([1, 1, 0, 1])\n",
    "\n",
    "alpha = 0.005\n",
    "data_point = 0\n",
    "goal = win_or_lose_binary[data_point]\n",
    "inp = np.array([toes[data_point], wlrec[data_point], nfans[data_point]])\n",
    "\n",
    "# Form a prediction and update weights several times\n",
    "for iter in range(3):\n",
    "    pred = neural_network(inp, weights)\n",
    "    error = (pred - goal) ** 2\n",
    "    derror = 2 * inp * (pred - goal)\n",
    "\n",
    "    weights = weights - alpha * derror\n",
    "\n",
    "    print(f'Iteration: {iter}')\n",
    "    print(f'Pred: {pred}')\n",
    "    print(f'Error: {error}')\n",
    "    print(f'Delta: {pred - goal}')\n",
    "    print(f'Weights: {weights}')\n",
    "    print(f'Weight Deltas: {alpha * derror}')"
   ],
   "metadata": {
    "collapsed": false,
    "pycharm": {
     "name": "#%%\n"
    }
   }
  },
  {
   "cell_type": "markdown",
   "source": [
    "### 2. Gradient descent learning with multiple inputs -- one weight is frozen"
   ],
   "metadata": {
    "collapsed": false,
    "pycharm": {
     "name": "#%% md\n"
    }
   }
  },
  {
   "cell_type": "code",
   "execution_count": 102,
   "outputs": [
    {
     "name": "stdout",
     "output_type": "stream",
     "text": [
      "Iteration: 0\n",
      "Pred: 0.8600000000000001\n",
      "Error: 0.01959999999999997\n",
      "Delta: -0.1399999999999999\n",
      "Weights: [ 0.1      0.20091 -0.09832]\n",
      "Weight Deltas: [ 0.      -0.00091 -0.00168]\n",
      "Iteration: 1\n",
      "Pred: 0.8626075000000001\n",
      "Error: 0.018876699056249977\n",
      "Delta: -0.13739249999999992\n",
      "Weights: [ 0.1         0.20180305 -0.09667129]\n",
      "Weight Deltas: [ 0.         -0.00089305 -0.00164871]\n",
      "Iteration: 2\n",
      "Pred: 0.8651664353125001\n",
      "Error: 0.018180090166338207\n",
      "Delta: -0.13483356468749985\n",
      "Weights: [ 0.1         0.20267947 -0.09505329]\n",
      "Weight Deltas: [ 0.         -0.00087642 -0.001618  ]\n"
     ]
    }
   ],
   "source": [
    "weights = np.array([0.1, 0.2, -0.1])\n",
    "\n",
    "toes = np.array([8.5, 9.5, 9.9, 9.0])\n",
    "wlrec = np.array([0.65, 0.8, 0.8, 0.9])\n",
    "nfans = np.array([1.2, 1.3, 0.5, 1.0])\n",
    "\n",
    "win_or_lose_binary = np.array([1, 1, 0, 1])\n",
    "\n",
    "alpha = 0.005\n",
    "data_point = 0\n",
    "goal = win_or_lose_binary[data_point]\n",
    "inp = np.array([toes[data_point], wlrec[data_point], nfans[data_point]])\n",
    "\n",
    "for iter in range(3):\n",
    "    pred = neural_network(inp, weights)\n",
    "    error = (pred - goal) ** 2\n",
    "    derror = 2 * inp * (pred - goal)\n",
    "    # Set the first weight to zero so it doesn't participate in learning\n",
    "    derror[0] = 0\n",
    "\n",
    "    weights = weights - alpha * derror\n",
    "\n",
    "    print(f'Iteration: {iter}')\n",
    "    print(f'Pred: {pred}')\n",
    "    print(f'Error: {error}')\n",
    "    print(f'Delta: {pred - goal}')\n",
    "    print(f'Weights: {weights}')\n",
    "    print(f'Weight Deltas: {alpha * derror}')"
   ],
   "metadata": {
    "collapsed": false,
    "pycharm": {
     "name": "#%%\n"
    }
   }
  },
  {
   "cell_type": "markdown",
   "source": [
    "The first weight here doesn't participate in learning process,\n",
    "but the network still attempts to adjust second and third weights to\n",
    "minimize the error. This opens up an important property of neural networks --\n",
    "if the network figures out how to do accurate (enough) prediction\n",
    "without taking into account a certain weight it may never utilize it\n",
    "for future predictions."
   ],
   "metadata": {
    "collapsed": false,
    "pycharm": {
     "name": "#%% md\n"
    }
   }
  },
  {
   "cell_type": "markdown",
   "source": [
    "### 3. Gradient descent learning with multiple outputs"
   ],
   "metadata": {
    "collapsed": false
   }
  },
  {
   "cell_type": "code",
   "execution_count": 103,
   "outputs": [
    {
     "name": "stdout",
     "output_type": "stream",
     "text": [
      "Iter: 0\n",
      "Error: [0.009025 0.7569   0.235225]\n",
      "Weights: [0.293825 0.25655  0.868475]\n",
      "Weight Deltas: [ 0.06175 -0.5655   0.31525]\n",
      "Iter: 1\n",
      "Error: [0.0082785  0.69429306 0.21576838]\n",
      "Weights: [0.28791089 0.31071076 0.83828193]\n",
      "Weight Deltas: [ 0.05914106 -0.54160763  0.30193069]\n"
     ]
    }
   ],
   "source": [
    "def neural_network(inp: float, weight: npt.NDArray) -> npt.NDArray:\n",
    "    return inp * weight\n",
    "\n",
    "weights = np.array([0.3, 0.2, 0.9])\n",
    "\n",
    "wlrec = np.array([0.65, 0.8, 0.8, 0.9])\n",
    "\n",
    "hurt = np.array([0.1, 0.0, 0.0, 0.1])\n",
    "win = np.array([1, 1, 1, 1])\n",
    "sad = np.array([0.1, 0.0, 0.1, 0.2])\n",
    "\n",
    "data_point = 0\n",
    "inp = wlrec[data_point]\n",
    "goal = np.array([hurt[data_point], win[data_point], sad[data_point]])\n",
    "\n",
    "alpha = 0.1\n",
    "\n",
    "for iter in range(2):\n",
    "    pred = neural_network(inp, weights)\n",
    "    error = (pred - goal) ** 2\n",
    "    derror = inp * (pred - goal)\n",
    "\n",
    "    weights = weights - alpha * derror\n",
    "\n",
    "    print(f'Iter: {iter}')\n",
    "    print(f'Error: {error}')\n",
    "    print(f'Weights: {weights}')\n",
    "    print(f'Weight Deltas: {derror}')"
   ],
   "metadata": {
    "collapsed": false,
    "pycharm": {
     "name": "#%%\n"
    }
   }
  },
  {
   "cell_type": "markdown",
   "source": [
    "### 4. Gradient descent learning with multiple inputs and outputs\n"
   ],
   "metadata": {
    "collapsed": false,
    "pycharm": {
     "name": "#%% md\n"
    }
   }
  },
  {
   "cell_type": "code",
   "execution_count": 113,
   "outputs": [
    {
     "name": "stdout",
     "output_type": "stream",
     "text": [
      "Iter: 0\n",
      "Prediction: [0.555 0.98  0.965]\n",
      "Error: [2.07025e-01 4.00000e-04 7.48225e-01]\n",
      "Delta: [ 0.455 -0.02   0.865]\n",
      "Weights: [[ 6.1325000e-02  9.7042500e-02 -3.0546000e-01]\n",
      " [ 1.0170000e-01  2.0013000e-01  2.4000000e-04]\n",
      " [-7.3525000e-02  1.2943775e+00  8.9620000e-02]]\n",
      "Weight Deltas: [[ 3.8675   0.29575  0.546  ]\n",
      " [-0.17    -0.013   -0.024  ]\n",
      " [ 7.3525   0.56225  1.038  ]]\n",
      "Iter: 1\n",
      "Prediction: [0.21778812 0.9948225  0.32392687]\n",
      "Error: [1.38740424e-02 2.68065063e-05 5.01432453e-02]\n",
      "Delta: [ 0.11778812 -0.0051775   0.22392687]\n",
      "Weights: [[ 5.13130094e-02  9.62768772e-02 -3.06873458e-01]\n",
      " [ 1.02140088e-01  2.00163654e-01  3.02130000e-04]\n",
      " [-9.25587844e-02  1.29292198e+00  8.69328775e-02]]\n",
      "Weight Deltas: [[ 1.00119906  0.07656228  0.14134575]\n",
      " [-0.04400875 -0.00336538 -0.006213  ]\n",
      " [ 1.90337844  0.14555247  0.26871225]]\n",
      "Iter: 2\n",
      "Prediction: [0.1304924  0.99865967 0.15796907]\n",
      "Error: [9.29786510e-04 1.79647194e-06 3.36041305e-03]\n",
      "Delta: [ 0.0304924  -0.00134033  0.05796907]\n",
      "Weights: [[ 4.87211553e-02  9.60786766e-02 -3.07239366e-01]\n",
      " [ 1.02254015e-01  2.00172366e-01  3.18213904e-04]\n",
      " [-9.74861553e-02  1.29254518e+00  8.62372487e-02]]\n",
      "Weight Deltas: [[ 0.25918541  0.01982006  0.03659088]\n",
      " [-0.01139277 -0.00087121 -0.00160839]\n",
      " [ 0.49273709  0.0376799   0.06956288]]\n"
     ]
    }
   ],
   "source": [
    "def neural_network(inp: npt.NDArray, weight : npt.NDArray) -> npt.NDArray:\n",
    "    return inp.dot(weight.T)\n",
    "\n",
    "weights = np.array([[0.1, 0.1, -0.3], # hurt?\n",
    "                    [0.1, 0.2, 0.0],  # win?\n",
    "                    [0.0, 1.3, 0.1]]) # sad?\n",
    "\n",
    "toes = np.array([8.5, 9.5, 9.9, 9.0])\n",
    "wlrec = np.array([0.65, 0.8, 0.8, 0.9])\n",
    "nfans = np.array([1.2, 1.3, 0.5, 1.0])\n",
    "\n",
    "hurt = np.array([0.1, 0.0, 0.0, 0.1])\n",
    "win = np.array([1, 1, 0, 1])\n",
    "sad = np.array([0.1, 0.0, 0.1, 0.2])\n",
    "\n",
    "alpha = 0.01\n",
    "\n",
    "data_point = 0\n",
    "inp = np.array([toes[data_point], wlrec[data_point], nfans[data_point]])\n",
    "goal = np.array([hurt[data_point], win[data_point], sad[data_point]])\n",
    "\n",
    "for iter in range(3):\n",
    "    pred = neural_network(inp, weights)\n",
    "    error = (pred - goal) ** 2\n",
    "    # The order is reversed in order to create properly transposed matrix\n",
    "    derror = np.outer((pred - goal), inp)\n",
    "\n",
    "    weights = weights - alpha * derror\n",
    "\n",
    "    print(f'Iter: {iter}')\n",
    "    print(f'Prediction: {pred}')\n",
    "    print(f'Error: {error}')\n",
    "    print(f'Delta: {pred - goal}')\n",
    "    print(f'Weights: {weights}')\n",
    "    print(f'Weight Deltas: {derror}')"
   ],
   "metadata": {
    "collapsed": false,
    "pycharm": {
     "name": "#%%\n"
    }
   }
  }
 ],
 "metadata": {
  "kernelspec": {
   "display_name": "Python 3",
   "language": "python",
   "name": "python3"
  },
  "language_info": {
   "codemirror_mode": {
    "name": "ipython",
    "version": 2
   },
   "file_extension": ".py",
   "mimetype": "text/x-python",
   "name": "python",
   "nbconvert_exporter": "python",
   "pygments_lexer": "ipython2",
   "version": "2.7.6"
  }
 },
 "nbformat": 4,
 "nbformat_minor": 0
}